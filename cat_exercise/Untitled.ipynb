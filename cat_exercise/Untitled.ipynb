{
 "cells": [
  {
   "cell_type": "code",
   "execution_count": 8,
   "id": "3f6acbaf-d562-4467-ae60-c431490f3512",
   "metadata": {},
   "outputs": [
    {
     "ename": "TypeError",
     "evalue": "'NoneType' object is not subscriptable",
     "output_type": "error",
     "traceback": [
      "\u001b[1;31m---------------------------------------------------------------------------\u001b[0m",
      "\u001b[1;31mTypeError\u001b[0m                                 Traceback (most recent call last)",
      "Cell \u001b[1;32mIn[8], line 9\u001b[0m\n\u001b[0;32m      6\u001b[0m img \u001b[38;5;241m=\u001b[39m cv2\u001b[38;5;241m.\u001b[39mimread(\u001b[38;5;124m'\u001b[39m\u001b[38;5;124mimg/gato.jpg\u001b[39m\u001b[38;5;124m'\u001b[39m)\n\u001b[0;32m      8\u001b[0m \u001b[38;5;66;03m# Separamos las capas RGB de la imagen\u001b[39;00m\n\u001b[1;32m----> 9\u001b[0m ImR \u001b[38;5;241m=\u001b[39m \u001b[43mimg\u001b[49m\u001b[43m[\u001b[49m\u001b[43m:\u001b[49m\u001b[43m,\u001b[49m\u001b[43m:\u001b[49m\u001b[43m,\u001b[49m\u001b[38;5;241;43m0\u001b[39;49m\u001b[43m]\u001b[49m\n\u001b[0;32m     10\u001b[0m ImG \u001b[38;5;241m=\u001b[39m img[:,:,\u001b[38;5;241m1\u001b[39m]\n\u001b[0;32m     11\u001b[0m ImB \u001b[38;5;241m=\u001b[39m img[:,:,\u001b[38;5;241m2\u001b[39m]\n",
      "\u001b[1;31mTypeError\u001b[0m: 'NoneType' object is not subscriptable"
     ]
    }
   ],
   "source": [
    "import cv2\n",
    "import numpy as np\n",
    "import matplotlib.pyplot as plt\n",
    "\n",
    "# Leemos la imagen\n",
    "img = cv2.imread('img/gato.jpg')\n",
    "\n",
    "# Separamos las capas RGB de la imagen\n",
    "ImR = img[:,:,0]\n",
    "ImG = img[:,:,1]\n",
    "ImB = img[:,:,2]\n",
    "\n",
    "# Binarización de la imagen\n",
    "n_1 = 210\n",
    "n_2 = 70\n",
    "imBinarizada = ImR > n_1 \n",
    "imBinarizada2 = ImG > n_2\n",
    "\n",
    "# Graficamos las imágenes\n",
    "fig, axs = plt.subplots(1,2, figsize=(6,3))\n",
    "axs[0].imshow(imBinarizada, cmap='gray')\n",
    "axs[0].set_title(f'ImR > {n_1}', fontsize=8)\n",
    "axs[1].imshow(imBinarizada2, cmap='gray')\n",
    "axs[1].set_title(f'ImG < {n_2}', fontsize=8)\n",
    "plt.show()\n",
    "\n",
    "# Colocamos un kernel para realizar dilatación\n",
    "kernel = np.ones((10,10), np.uint8)\n",
    "\n",
    "# Dilatamos R\n",
    "imBinarizada = imBinarizada.astype(np.uint8)\n",
    "ImDilatadaR = cv2.dilate(imBinarizada, kernel, iterations=1)\n",
    "\n",
    "# Erosionamos G\n",
    "kernel = np.ones((3,3), np.uint8)\n",
    "imBinarizada2 = imBinarizada2.astype(np.uint8)\n",
    "ImErosionadaG = cv2.erode(imBinarizada2, kernel, iterations=1)\n",
    "\n",
    "# Graficamos las imágenes\n",
    "fig, axs = plt.subplots(1,2, figsize=(6,3))\n",
    "axs[0].imshow(ImDilatadaR, cmap='gray')\n",
    "axs[0].set_title('Imagen de la capa R dilatada', fontsize=8)\n",
    "axs[1].imshow(ImErosionadaG, cmap='gray')\n",
    "axs[1].set_title('Imagen de la capa G erosionada', fontsize=8)\n",
    "plt.show()\n",
    "\n",
    "# Binarizamos las imágenes de la capa R y G\n",
    "imBinarizada3 = ImDilatadaR > 0\n",
    "imBinarizada4 = ImErosionadaG > 120\n",
    "imBinarizada5 = np.invert(imBinarizada4)\n",
    "\n",
    "fig, axs = plt.subplots(1,4, figsize=(8,3))\n",
    "axs[0].imshow(img)\n",
    "axs[0].set_title('Img original', fontsize=8)\n",
    "axs[1].imshow(imBinarizada3, cmap='gray')\n",
    "axs[1].set_title('Img binarizada 1', fontsize=8)\n",
    "axs[2].imshow(imBinarizada4, cmap='gray')\n",
    "axs[2].set_title('Img binarizada 2', fontsize=8)\n",
    "axs[3].imshow(imBinarizada5, cmap='gray')\n",
    "axs[3].set_title('Img binarizada invertida', fontsize=8)\n",
    "plt.show()\n"
   ]
  },
  {
   "cell_type": "code",
   "execution_count": null,
   "id": "403b03a8-0056-479f-b632-e17d1c1713d6",
   "metadata": {},
   "outputs": [],
   "source": []
  }
 ],
 "metadata": {
  "kernelspec": {
   "display_name": "Python 3 (ipykernel)",
   "language": "python",
   "name": "python3"
  },
  "language_info": {
   "codemirror_mode": {
    "name": "ipython",
    "version": 3
   },
   "file_extension": ".py",
   "mimetype": "text/x-python",
   "name": "python",
   "nbconvert_exporter": "python",
   "pygments_lexer": "ipython3",
   "version": "3.8.16"
  }
 },
 "nbformat": 4,
 "nbformat_minor": 5
}
